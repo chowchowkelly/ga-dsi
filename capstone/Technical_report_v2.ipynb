{
 "cells": [
  {
   "cell_type": "markdown",
   "metadata": {},
   "source": [
    "## This technical report is focusing on feature extraction:\n",
    "- sentiment (done)\n",
    "- on the todo list: regessive imagery dictionary scores (used by 750words.com), us vs them, time orientation, certainty (pattern library), concepts (pattern library)."
   ]
  },
  {
   "cell_type": "code",
   "execution_count": 1,
   "metadata": {
    "collapsed": true
   },
   "outputs": [],
   "source": [
    "from textblob import TextBlob\n",
    "from textblob.sentiments import NaiveBayesAnalyzer\n",
    "import json\n",
    "import pandas as pd\n",
    "import numpy as np\n",
    "import json\n",
    "import re\n",
    "import matplotlib.pyplot as plt\n",
    "from datetime import datetime\n",
    "%matplotlib inline"
   ]
  },
  {
   "cell_type": "code",
   "execution_count": 74,
   "metadata": {
    "collapsed": false
   },
   "outputs": [],
   "source": [
    "private_df = pd.read_csv(\"/Users/KerryChowChow/DSI-SF-3-kelly/CAPSTONE/csv/fb_private.csv\")"
   ]
  },
  {
   "cell_type": "code",
   "execution_count": 58,
   "metadata": {
    "collapsed": false
   },
   "outputs": [
    {
     "data": {
      "text/html": [
       "<div>\n",
       "<table border=\"1\" class=\"dataframe\">\n",
       "  <thead>\n",
       "    <tr style=\"text-align: right;\">\n",
       "      <th></th>\n",
       "      <th>Unnamed: 0</th>\n",
       "      <th>old_thread</th>\n",
       "      <th>user</th>\n",
       "      <th>message</th>\n",
       "      <th>year</th>\n",
       "      <th>month</th>\n",
       "      <th>hour</th>\n",
       "      <th>length</th>\n",
       "      <th>type</th>\n",
       "      <th>new_thread</th>\n",
       "      <th>talking_to</th>\n",
       "    </tr>\n",
       "  </thead>\n",
       "  <tbody>\n",
       "    <tr>\n",
       "      <th>84817</th>\n",
       "      <td>84817</td>\n",
       "      <td>2391</td>\n",
       "      <td>Person_1288</td>\n",
       "      <td>From July 31st to August 2nd, the Google HQ in...</td>\n",
       "      <td>2015</td>\n",
       "      <td>8</td>\n",
       "      <td>9</td>\n",
       "      <td>10419</td>\n",
       "      <td>private</td>\n",
       "      <td>1227.0</td>\n",
       "      <td>Person_1288</td>\n",
       "    </tr>\n",
       "    <tr>\n",
       "      <th>100485</th>\n",
       "      <td>100485</td>\n",
       "      <td>2791</td>\n",
       "      <td>Main_User</td>\n",
       "      <td>Repertoire as menu \\nThe language of physical ...</td>\n",
       "      <td>2016</td>\n",
       "      <td>1</td>\n",
       "      <td>8</td>\n",
       "      <td>11553</td>\n",
       "      <td>private</td>\n",
       "      <td>1529.0</td>\n",
       "      <td>Person_1604</td>\n",
       "    </tr>\n",
       "    <tr>\n",
       "      <th>138803</th>\n",
       "      <td>138803</td>\n",
       "      <td>2885</td>\n",
       "      <td>Person_506</td>\n",
       "      <td>/*\\n   YOU  $Z$$$ZZ$$$$$77$7777777777777777777...</td>\n",
       "      <td>2016</td>\n",
       "      <td>4</td>\n",
       "      <td>15</td>\n",
       "      <td>11455</td>\n",
       "      <td>private</td>\n",
       "      <td>NaN</td>\n",
       "      <td>NaN</td>\n",
       "    </tr>\n",
       "    <tr>\n",
       "      <th>356942</th>\n",
       "      <td>356942</td>\n",
       "      <td>6955</td>\n",
       "      <td>Main_User</td>\n",
       "      <td>7/24/10\\n\\nOrtho-Core multivitamin- Vitamins a...</td>\n",
       "      <td>2013</td>\n",
       "      <td>4</td>\n",
       "      <td>23</td>\n",
       "      <td>41885</td>\n",
       "      <td>private</td>\n",
       "      <td>NaN</td>\n",
       "      <td>NaN</td>\n",
       "    </tr>\n",
       "    <tr>\n",
       "      <th>357053</th>\n",
       "      <td>357053</td>\n",
       "      <td>6955</td>\n",
       "      <td>Person_1883</td>\n",
       "      <td>Zhenya Pavlov\\nhey can you hit me back with ev...</td>\n",
       "      <td>2013</td>\n",
       "      <td>3</td>\n",
       "      <td>18</td>\n",
       "      <td>11718</td>\n",
       "      <td>private</td>\n",
       "      <td>NaN</td>\n",
       "      <td>NaN</td>\n",
       "    </tr>\n",
       "  </tbody>\n",
       "</table>\n",
       "</div>"
      ],
      "text/plain": [
       "        Unnamed: 0  old_thread         user  \\\n",
       "84817        84817        2391  Person_1288   \n",
       "100485      100485        2791    Main_User   \n",
       "138803      138803        2885   Person_506   \n",
       "356942      356942        6955    Main_User   \n",
       "357053      357053        6955  Person_1883   \n",
       "\n",
       "                                                  message  year  month  hour  \\\n",
       "84817   From July 31st to August 2nd, the Google HQ in...  2015      8     9   \n",
       "100485  Repertoire as menu \\nThe language of physical ...  2016      1     8   \n",
       "138803  /*\\n   YOU  $Z$$$ZZ$$$$$77$7777777777777777777...  2016      4    15   \n",
       "356942  7/24/10\\n\\nOrtho-Core multivitamin- Vitamins a...  2013      4    23   \n",
       "357053  Zhenya Pavlov\\nhey can you hit me back with ev...  2013      3    18   \n",
       "\n",
       "        length     type  new_thread   talking_to  \n",
       "84817    10419  private      1227.0  Person_1288  \n",
       "100485   11553  private      1529.0  Person_1604  \n",
       "138803   11455  private         NaN          NaN  \n",
       "356942   41885  private         NaN          NaN  \n",
       "357053   11718  private         NaN          NaN  "
      ]
     },
     "execution_count": 58,
     "metadata": {},
     "output_type": "execute_result"
    }
   ],
   "source": [
    "private_df[private_df.length > 10000]\n",
    "#whoa, so the longest string was 41885 words"
   ]
  },
  {
   "cell_type": "code",
   "execution_count": 71,
   "metadata": {
    "collapsed": false
   },
   "outputs": [],
   "source": [
    "test_str2 = private_df.iloc[84817,:].message"
   ]
  },
  {
   "cell_type": "code",
   "execution_count": 72,
   "metadata": {
    "collapsed": false,
    "scrolled": true
   },
   "outputs": [],
   "source": [
    "test_str2 = test_str2.decode('utf-8')\n"
   ]
  },
  {
   "cell_type": "markdown",
   "metadata": {},
   "source": [
    "## Create sentiment tags for each sentence\n",
    "### textblob has 2 types of analyzer. Naivebayes was trained on movie reviews and twitter.\n",
    "#### NaiveBays was really slow and Pattern library was a lot faster. It's unclear what model Pattern is using though and couldn't find it on their website"
   ]
  },
  {
   "cell_type": "markdown",
   "metadata": {},
   "source": [
    "The polarity score is a float within the range [-1.0, 1.0]. The subjectivity is a float within the range [0.0, 1.0] where 0.0 is very objective and 1.0 is very subjective."
   ]
  },
  {
   "cell_type": "code",
   "execution_count": null,
   "metadata": {
    "collapsed": true
   },
   "outputs": [],
   "source": []
  },
  {
   "cell_type": "code",
   "execution_count": 68,
   "metadata": {
    "collapsed": false
   },
   "outputs": [
    {
     "data": {
      "text/plain": [
       "Sentiment(polarity=0.2011938208958077, subjectivity=0.48187181655724715)"
      ]
     },
     "execution_count": 68,
     "metadata": {},
     "output_type": "execute_result"
    }
   ],
   "source": [
    "blob = TextBlob(test_str2)\n",
    "blob.sentiment\n",
    "#trying on one sentence and it seems like it's taking a long time. Takes at least 10 seconds.\n",
    "# like the most common NLP problem, the problem for a bag of words sentiment analysis\n",
    "# is that it doesn't capture the meaning of a whole sentence"
   ]
  },
  {
   "cell_type": "markdown",
   "metadata": {},
   "source": [
    "After testing over 10 different strings and string length from 3 to 1000. I am subjectively and possibly biased to say that I am positive about the Pattern library sentiment analysis.\n",
    "\n",
    "I think, to get more granular sentiment analysis, it's better to break down those long message into sentences to get a mix of differetn sentiments"
   ]
  },
  {
   "cell_type": "markdown",
   "metadata": {
    "collapsed": true
   },
   "source": [
    "## Applying TextBlob sentiment to the dataset"
   ]
  },
  {
   "cell_type": "code",
   "execution_count": 81,
   "metadata": {
    "collapsed": false
   },
   "outputs": [],
   "source": [
    "#decode the unicode\n",
    "message = private_df.message.apply(lambda x: x.decode('utf-8'))"
   ]
  },
  {
   "cell_type": "code",
   "execution_count": 83,
   "metadata": {
    "collapsed": false
   },
   "outputs": [],
   "source": [
    "sentiment_m = message.map(lambda x: TextBlob(x).sentiment)"
   ]
  },
  {
   "cell_type": "code",
   "execution_count": 89,
   "metadata": {
    "collapsed": false
   },
   "outputs": [],
   "source": [
    "sentiment_df = pd.DataFrame(sentiment_m.tolist())"
   ]
  },
  {
   "cell_type": "code",
   "execution_count": 95,
   "metadata": {
    "collapsed": false,
    "scrolled": true
   },
   "outputs": [],
   "source": [
    "whole_senti_df = pd.merge(private_df,sentiment_df, how = 'left', left_index= True, right_index= True)"
   ]
  },
  {
   "cell_type": "code",
   "execution_count": 115,
   "metadata": {
    "collapsed": false,
    "scrolled": true
   },
   "outputs": [
    {
     "data": {
      "text/html": [
       "<div>\n",
       "<table border=\"1\" class=\"dataframe\">\n",
       "  <thead>\n",
       "    <tr style=\"text-align: right;\">\n",
       "      <th></th>\n",
       "      <th>Unnamed: 0</th>\n",
       "      <th>thread#</th>\n",
       "      <th>user</th>\n",
       "      <th>message</th>\n",
       "      <th>Year</th>\n",
       "      <th>Month</th>\n",
       "      <th>Hour</th>\n",
       "      <th>Length</th>\n",
       "      <th>convo_style</th>\n",
       "      <th>polarity</th>\n",
       "      <th>subjectivity</th>\n",
       "    </tr>\n",
       "  </thead>\n",
       "  <tbody>\n",
       "    <tr>\n",
       "      <th>245751</th>\n",
       "      <td>452432</td>\n",
       "      <td>4993</td>\n",
       "      <td>Main_User</td>\n",
       "      <td>Success spirals! Cascading syncope!</td>\n",
       "      <td>2014</td>\n",
       "      <td>2</td>\n",
       "      <td>15</td>\n",
       "      <td>35</td>\n",
       "      <td>private</td>\n",
       "      <td>0.46875</td>\n",
       "      <td>0.0</td>\n",
       "    </tr>\n",
       "  </tbody>\n",
       "</table>\n",
       "</div>"
      ],
      "text/plain": [
       "        Unnamed: 0  thread#       user                              message  \\\n",
       "245751      452432     4993  Main_User  Success spirals! Cascading syncope!   \n",
       "\n",
       "        Year  Month  Hour  Length convo_style  polarity  subjectivity  \n",
       "245751  2014      2    15      35     private   0.46875           0.0  "
      ]
     },
     "execution_count": 115,
     "metadata": {},
     "output_type": "execute_result"
    }
   ],
   "source": [
    "whole_senti_df[(whole_senti_df.subjectivity == 0.0 )& (whole_senti_df.polarity > 0.4)]"
   ]
  },
  {
   "cell_type": "code",
   "execution_count": 116,
   "metadata": {
    "collapsed": true
   },
   "outputs": [],
   "source": [
    "whole_senti_df.to_csv(\"fb_senti.csv\", encoding='utf-8')"
   ]
  },
  {
   "cell_type": "markdown",
   "metadata": {},
   "source": [
    "## Looking at how accurate the polarity is\n",
    "examples when it's not very accurate:\n",
    "- \"Lets touch base. Have a million ideas to share!\"\n",
    "- \"Damn. This is insane!\"\n",
    "- \"you can force people to create an evil ai\"\n",
    "- \"Worst case I just bring your food up to you.\"\n",
    "- \"Hey! Let's touch base for tonight! \"\n",
    "- \"yeah this Sunday is the rub. That is awful soon!\"\n",
    "\n",
    "examples of decent prediction:\n",
    "- \"yeah I think crime is terrible in SF\"\n",
    "- \"U r insulting me when u r sleeping around with...\"\n",
    "- \"U know .. I know myself well.. I can be v evil\"\n",
    "- \"Yes. The worst thing you can do, is nothing.\"\n",
    "- \"i dislike the boring repeating job\"\n",
    "- \"Make his life miserable.\""
   ]
  },
  {
   "cell_type": "code",
   "execution_count": null,
   "metadata": {
    "collapsed": false
   },
   "outputs": [],
   "source": []
  },
  {
   "cell_type": "code",
   "execution_count": null,
   "metadata": {
    "collapsed": true
   },
   "outputs": [],
   "source": []
  },
  {
   "cell_type": "code",
   "execution_count": null,
   "metadata": {
    "collapsed": true
   },
   "outputs": [],
   "source": []
  },
  {
   "cell_type": "code",
   "execution_count": null,
   "metadata": {
    "collapsed": true
   },
   "outputs": [],
   "source": []
  },
  {
   "cell_type": "code",
   "execution_count": null,
   "metadata": {
    "collapsed": true
   },
   "outputs": [],
   "source": []
  },
  {
   "cell_type": "code",
   "execution_count": null,
   "metadata": {
    "collapsed": true
   },
   "outputs": [],
   "source": []
  }
 ],
 "metadata": {
  "anaconda-cloud": {},
  "kernelspec": {
   "display_name": "Python [dsi]",
   "language": "python",
   "name": "Python [dsi]"
  },
  "language_info": {
   "codemirror_mode": {
    "name": "ipython",
    "version": 2
   },
   "file_extension": ".py",
   "mimetype": "text/x-python",
   "name": "python",
   "nbconvert_exporter": "python",
   "pygments_lexer": "ipython2",
   "version": "2.7.12"
  }
 },
 "nbformat": 4,
 "nbformat_minor": 0
}
