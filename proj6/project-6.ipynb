{
 "cells": [
  {
   "cell_type": "markdown",
   "metadata": {},
   "source": [
    "<img src=\"http://imgur.com/1ZcRyrc.png\" style=\"float: left; margin: 15px; height: 80px\">\n",
    "\n",
    "# Project 6\n",
    "\n",
    "\n",
    "## NLP and Machine Learning on [travel.statsexchange.com](http://travel.stackexchange.com/) data\n",
    "\n",
    "---\n",
    "\n",
    "In Project 7 you'll be doing NLP and machine learning on post data from stackexchange's travel subdomain. \n",
    "\n",
    "This project is setup like a mini Kaggle competition. You are given the training data and when projects are submitted your model will be tested on the held-out testing data. There will be prizes for the people who build models that perform best on the held out test set!\n",
    "\n",
    "---\n",
    "\n",
    "## Notes on the data\n",
    "\n",
    "The data is again compressed into the `.7z` file format to save space. There are 6 .csv files and one readme file that contains some information on the fields.\n",
    "\n",
    "    posts_train.csv\n",
    "    comments_train.csv\n",
    "    users.csv\n",
    "    badges.csv\n",
    "    votes_train.csv\n",
    "    tags.csv\n",
    "    readme.txt\n",
    "    \n",
    "The data is located in your datasets folder:\n",
    "\n",
    "    DSI-SF-2/datasets/stack_exchange_travel.7z\n",
    "    \n",
    "If you're interested in where this data came from and where to get more data from other stackexchange subdomains, see here:\n",
    "\n",
    "https://ia800500.us.archive.org/22/items/stackexchange/readme.txt\n",
    "\n",
    "\n",
    "### Recommended Utilities for .7z\n",
    "\n",
    "- For OSX [Keka](http://www.kekaosx.com/en/) or [The Unarchiver](http://wakaba.c3.cx/s/apps/unarchiver.html). \n",
    "- For Windows [7-zip](http://www.7-zip.org/) is the standard. \n",
    "- For Linux try the `p7zip` utility.  `sudo apt-get install p7zip`.\n",
    "\n"
   ]
  },
  {
   "cell_type": "markdown",
   "metadata": {},
   "source": [
    "note from Kelly: will be doin NLP for capstone so won't do this project. Finished numer.ai."
   ]
  },
  {
   "cell_type": "markdown",
   "metadata": {},
   "source": [
    "<img src=\"http://imgur.com/l5NasQj.png\" style=\"float: left; margin: 25px 15px 0px 0px; height: 25px\">\n",
    "\n",
    "### 1. Use LDA to find what topics are discussed on travel.stackexchange.com.\n",
    "\n",
    "---\n",
    "\n",
    "Text can be found in the posts and the comments datasets. The `ParentId` column in the posts dataset indicates what the \"question\" post was for a given post. Comment text can be merged onto the post they are part of with the `PostId` field.\n",
    "\n",
    "The text may have some HTML tags. BeautifulSoup has convenient ways to get rid of markup or extract text if you need to. You can also parse the strings yourself if you like.\n",
    "\n",
    "The tags dataset has the \"tags\" that the users have officially given the post.\n",
    "\n",
    "**1.1 Implement LDA against the text features of the dataset(s).**\n",
    "\n",
    "- This can be posts or a combination of posts and comments if you want more power.\n",
    "- Find optimal **K/num_topics**.\n",
    "\n",
    "**1.2 Compare your topics to the tags. Do the LDA topics make sense? How do they compare to the tags?**\n"
   ]
  },
  {
   "cell_type": "code",
   "execution_count": null,
   "metadata": {
    "collapsed": true
   },
   "outputs": [],
   "source": []
  },
  {
   "cell_type": "markdown",
   "metadata": {},
   "source": [
    "<img src=\"http://imgur.com/l5NasQj.png\" style=\"float: left; margin: 25px 15px 0px 0px; height: 25px\">\n",
    "\n",
    "### 2. What makes an answer likely to be \"accepted\"?\n",
    "\n",
    "---\n",
    "\n",
    "**2.1 Build a model to predict whether a post will be marked as the answer.**\n",
    "\n",
    "- This is a classification problem.\n",
    "- You're free to use any of the machine learning algorithms or techniques we have learned in class to build the best model you can.\n",
    "- NLP will be very useful here for pulling out useful and relevant features from the data. \n",
    "- Though not required, using bagging and boosting models like Random Forests and Gradient Boosted Trees will _probably_ get you the highest performance on the test data (but who knows!).\n",
    "\n",
    "\n",
    "**2.2 Evaluate the performance of your classifier with a confusion matrix and accuracy. Explain how your model is performing.**\n",
    "\n",
    "**2.3 Plot either a ROC curve or precision-recall curve (or both!) and explain what they tell you about your model.**\n",
    "\n",
    "NOTE: You should only be predicting this for `PostTypeID=2` posts, which are the \"answer\" posts. This doesn't mean, however, that you can't or shouldn't use the parent questions as predictors!\n"
   ]
  },
  {
   "cell_type": "code",
   "execution_count": null,
   "metadata": {
    "collapsed": true
   },
   "outputs": [],
   "source": []
  },
  {
   "cell_type": "markdown",
   "metadata": {
    "collapsed": true
   },
   "source": [
    "<img src=\"http://imgur.com/l5NasQj.png\" style=\"float: left; margin: 25px 15px 0px 0px; height: 25px\">\n",
    "\n",
    "### 3. What is the score of a post?\n",
    "\n",
    "---\n",
    "\n",
    "**3.1 Build a model that predicts the score of a post.**\n",
    "\n",
    "- This is a regression problem now. \n",
    "- You can and should be predicting score for both \"question\" and \"answer\" posts, so keep them both in your dataset.\n",
    "- Again, use any techniques that you think will get you the best model.\n",
    "\n",
    "**3.2 Evaluate the performance of your model with cross-validation and report the results.**\n",
    "\n",
    "**3.3 What is important for determining the score of a post, if anything?**\n"
   ]
  },
  {
   "cell_type": "code",
   "execution_count": null,
   "metadata": {
    "collapsed": true
   },
   "outputs": [],
   "source": []
  },
  {
   "cell_type": "markdown",
   "metadata": {},
   "source": [
    "<img src=\"http://imgur.com/l5NasQj.png\" style=\"float: left; margin: 25px 15px 0px 0px; height: 25px\">\n",
    "\n",
    "### 4. How many views does a post have?\n",
    "\n",
    "---\n",
    "\n",
    "**4.1 Build a model that predicts the number of views a post has.**\n",
    "\n",
    "- This is another regression problem. \n",
    "- Predict the views for all posts, not just the \"answer\" posts.\n",
    "\n",
    "**4.2 Evaluate the performance of your model with cross-validation and report the results.**\n",
    "\n",
    "**4.3 What is important for the number of views a post has, if anything?**"
   ]
  },
  {
   "cell_type": "code",
   "execution_count": null,
   "metadata": {
    "collapsed": true
   },
   "outputs": [],
   "source": []
  },
  {
   "cell_type": "markdown",
   "metadata": {},
   "source": [
    "<img src=\"http://imgur.com/l5NasQj.png\" style=\"float: left; margin: 25px 15px 0px 0px; height: 25px\">\n",
    "\n",
    "### 5. Build a pipeline or other code to automate evaluation of your models on the test data.\n",
    "\n",
    "---\n",
    "\n",
    "Now that you've constructed your three predictive models, build a pipeline or code that can easily load up the raw testing data and evaluate your models on it.\n",
    "\n",
    "The testing data that is held out is in the same raw format as the training data you have. _Any cleaning and preprocessing that you did on the training data will need to be done on the testing data as well!_\n",
    "\n",
    "This is a good opportunity to practice building pipelines, but you're not required to. Custom functions and classes are fine as long as they are able to process and test the new data.\n"
   ]
  },
  {
   "cell_type": "code",
   "execution_count": null,
   "metadata": {
    "collapsed": true
   },
   "outputs": [],
   "source": []
  },
  {
   "cell_type": "markdown",
   "metadata": {},
   "source": [
    "<img src=\"http://imgur.com/xDpSobf.png\" style=\"float: left; margin: 25px 15px 0px 0px; height: 25px\">\n",
    "\n",
    "## 6. Lets Model - Tournament for stock market predictions\n",
    "\n",
    ">Start this section of the project by downloading the train and test datasets from the following site: https://numer.ai/rules\n",
    "\n",
    "> - The data set is clean, your goal is to develop a classification model(s) \n",
    "> - Report all the results including log loss, and other coefficients you consider iteresting"
   ]
  },
  {
   "cell_type": "code",
   "execution_count": 1,
   "metadata": {
    "collapsed": true
   },
   "outputs": [],
   "source": [
    "import pandas as pd\n",
    "import numpy as np"
   ]
  },
  {
   "cell_type": "code",
   "execution_count": 3,
   "metadata": {
    "collapsed": true
   },
   "outputs": [],
   "source": [
    "numerai = pd.read_csv(\"/Users/KerryChowChow/DSI-SF-3-kelly/projects/project6/numerai_datasets/numerai_training_data.csv\")"
   ]
  },
  {
   "cell_type": "code",
   "execution_count": 4,
   "metadata": {
    "collapsed": false,
    "scrolled": true
   },
   "outputs": [
    {
     "name": "stdout",
     "output_type": "stream",
     "text": [
      "<class 'pandas.core.frame.DataFrame'>\n",
      "RangeIndex: 96320 entries, 0 to 96319\n",
      "Data columns (total 22 columns):\n",
      "feature1     96320 non-null float64\n",
      "feature2     96320 non-null float64\n",
      "feature3     96320 non-null float64\n",
      "feature4     96320 non-null float64\n",
      "feature5     96320 non-null float64\n",
      "feature6     96320 non-null float64\n",
      "feature7     96320 non-null float64\n",
      "feature8     96320 non-null float64\n",
      "feature9     96320 non-null float64\n",
      "feature10    96320 non-null float64\n",
      "feature11    96320 non-null float64\n",
      "feature12    96320 non-null float64\n",
      "feature13    96320 non-null float64\n",
      "feature14    96320 non-null float64\n",
      "feature15    96320 non-null float64\n",
      "feature16    96320 non-null float64\n",
      "feature17    96320 non-null float64\n",
      "feature18    96320 non-null float64\n",
      "feature19    96320 non-null float64\n",
      "feature20    96320 non-null float64\n",
      "feature21    96320 non-null float64\n",
      "target       96320 non-null int64\n",
      "dtypes: float64(21), int64(1)\n",
      "memory usage: 16.2 MB\n"
     ]
    }
   ],
   "source": [
    "numerai.info()"
   ]
  },
  {
   "cell_type": "code",
   "execution_count": 12,
   "metadata": {
    "collapsed": false
   },
   "outputs": [],
   "source": [
    "numerai_10 = numerai.sample(frac = 0.1)"
   ]
  },
  {
   "cell_type": "code",
   "execution_count": 5,
   "metadata": {
    "collapsed": false,
    "scrolled": true
   },
   "outputs": [
    {
     "name": "stdout",
     "output_type": "stream",
     "text": [
      "<class 'pandas.core.frame.DataFrame'>\n",
      "Int64Index: 9632 entries, 76732 to 91933\n",
      "Data columns (total 22 columns):\n",
      "feature1     9632 non-null float64\n",
      "feature2     9632 non-null float64\n",
      "feature3     9632 non-null float64\n",
      "feature4     9632 non-null float64\n",
      "feature5     9632 non-null float64\n",
      "feature6     9632 non-null float64\n",
      "feature7     9632 non-null float64\n",
      "feature8     9632 non-null float64\n",
      "feature9     9632 non-null float64\n",
      "feature10    9632 non-null float64\n",
      "feature11    9632 non-null float64\n",
      "feature12    9632 non-null float64\n",
      "feature13    9632 non-null float64\n",
      "feature14    9632 non-null float64\n",
      "feature15    9632 non-null float64\n",
      "feature16    9632 non-null float64\n",
      "feature17    9632 non-null float64\n",
      "feature18    9632 non-null float64\n",
      "feature19    9632 non-null float64\n",
      "feature20    9632 non-null float64\n",
      "feature21    9632 non-null float64\n",
      "target       9632 non-null int64\n",
      "dtypes: float64(21), int64(1)\n",
      "memory usage: 1.7 MB\n"
     ]
    }
   ],
   "source": [
    "numerai_10.info()"
   ]
  },
  {
   "cell_type": "code",
   "execution_count": 5,
   "metadata": {
    "collapsed": false,
    "scrolled": true
   },
   "outputs": [
    {
     "data": {
      "text/html": [
       "<div>\n",
       "<table border=\"1\" class=\"dataframe\">\n",
       "  <thead>\n",
       "    <tr style=\"text-align: right;\">\n",
       "      <th></th>\n",
       "      <th>0</th>\n",
       "      <th>1</th>\n",
       "      <th>2</th>\n",
       "      <th>3</th>\n",
       "      <th>4</th>\n",
       "    </tr>\n",
       "  </thead>\n",
       "  <tbody>\n",
       "    <tr>\n",
       "      <th>feature1</th>\n",
       "      <td>0.919013</td>\n",
       "      <td>0.432089</td>\n",
       "      <td>0.540382</td>\n",
       "      <td>0.463623</td>\n",
       "      <td>0.301319</td>\n",
       "    </tr>\n",
       "    <tr>\n",
       "      <th>feature2</th>\n",
       "      <td>0.175979</td>\n",
       "      <td>0.351883</td>\n",
       "      <td>0.455780</td>\n",
       "      <td>0.064658</td>\n",
       "      <td>0.177891</td>\n",
       "    </tr>\n",
       "    <tr>\n",
       "      <th>feature3</th>\n",
       "      <td>0.101359</td>\n",
       "      <td>0.304700</td>\n",
       "      <td>0.827779</td>\n",
       "      <td>0.593650</td>\n",
       "      <td>0.724596</td>\n",
       "    </tr>\n",
       "    <tr>\n",
       "      <th>feature4</th>\n",
       "      <td>0.666598</td>\n",
       "      <td>0.896531</td>\n",
       "      <td>0.599250</td>\n",
       "      <td>0.919549</td>\n",
       "      <td>0.303711</td>\n",
       "    </tr>\n",
       "    <tr>\n",
       "      <th>feature5</th>\n",
       "      <td>0.580599</td>\n",
       "      <td>0.405688</td>\n",
       "      <td>0.557706</td>\n",
       "      <td>0.241829</td>\n",
       "      <td>0.750088</td>\n",
       "    </tr>\n",
       "    <tr>\n",
       "      <th>feature6</th>\n",
       "      <td>0.921771</td>\n",
       "      <td>0.816737</td>\n",
       "      <td>0.652918</td>\n",
       "      <td>0.778215</td>\n",
       "      <td>0.875587</td>\n",
       "    </tr>\n",
       "    <tr>\n",
       "      <th>feature7</th>\n",
       "      <td>0.389600</td>\n",
       "      <td>0.469452</td>\n",
       "      <td>0.320100</td>\n",
       "      <td>0.810370</td>\n",
       "      <td>0.286873</td>\n",
       "    </tr>\n",
       "    <tr>\n",
       "      <th>feature8</th>\n",
       "      <td>0.481728</td>\n",
       "      <td>0.532358</td>\n",
       "      <td>0.514789</td>\n",
       "      <td>0.454875</td>\n",
       "      <td>0.563292</td>\n",
       "    </tr>\n",
       "    <tr>\n",
       "      <th>feature9</th>\n",
       "      <td>0.024934</td>\n",
       "      <td>0.484844</td>\n",
       "      <td>0.287147</td>\n",
       "      <td>0.003836</td>\n",
       "      <td>0.363022</td>\n",
       "    </tr>\n",
       "    <tr>\n",
       "      <th>feature10</th>\n",
       "      <td>0.909278</td>\n",
       "      <td>1.000000</td>\n",
       "      <td>0.520798</td>\n",
       "      <td>0.860052</td>\n",
       "      <td>0.726946</td>\n",
       "    </tr>\n",
       "    <tr>\n",
       "      <th>feature11</th>\n",
       "      <td>0.743939</td>\n",
       "      <td>0.316164</td>\n",
       "      <td>0.386932</td>\n",
       "      <td>0.374263</td>\n",
       "      <td>0.415044</td>\n",
       "    </tr>\n",
       "    <tr>\n",
       "      <th>feature12</th>\n",
       "      <td>0.048161</td>\n",
       "      <td>0.354890</td>\n",
       "      <td>0.254918</td>\n",
       "      <td>0.147851</td>\n",
       "      <td>0.177795</td>\n",
       "    </tr>\n",
       "    <tr>\n",
       "      <th>feature13</th>\n",
       "      <td>0.604954</td>\n",
       "      <td>0.499131</td>\n",
       "      <td>0.441554</td>\n",
       "      <td>0.836339</td>\n",
       "      <td>0.178349</td>\n",
       "    </tr>\n",
       "    <tr>\n",
       "      <th>feature14</th>\n",
       "      <td>0.259207</td>\n",
       "      <td>0.884075</td>\n",
       "      <td>0.036118</td>\n",
       "      <td>0.140753</td>\n",
       "      <td>0.470959</td>\n",
       "    </tr>\n",
       "    <tr>\n",
       "      <th>feature15</th>\n",
       "      <td>0.761188</td>\n",
       "      <td>0.790231</td>\n",
       "      <td>0.374320</td>\n",
       "      <td>0.451736</td>\n",
       "      <td>0.350409</td>\n",
       "    </tr>\n",
       "    <tr>\n",
       "      <th>feature16</th>\n",
       "      <td>0.922862</td>\n",
       "      <td>0.295038</td>\n",
       "      <td>0.358789</td>\n",
       "      <td>0.190552</td>\n",
       "      <td>0.826522</td>\n",
       "    </tr>\n",
       "    <tr>\n",
       "      <th>feature17</th>\n",
       "      <td>0.615989</td>\n",
       "      <td>0.626416</td>\n",
       "      <td>0.449323</td>\n",
       "      <td>0.958331</td>\n",
       "      <td>0.430217</td>\n",
       "    </tr>\n",
       "    <tr>\n",
       "      <th>feature18</th>\n",
       "      <td>0.406138</td>\n",
       "      <td>0.854634</td>\n",
       "      <td>0.265539</td>\n",
       "      <td>0.457151</td>\n",
       "      <td>0.367773</td>\n",
       "    </tr>\n",
       "    <tr>\n",
       "      <th>feature19</th>\n",
       "      <td>0.372772</td>\n",
       "      <td>0.297635</td>\n",
       "      <td>0.376490</td>\n",
       "      <td>0.385226</td>\n",
       "      <td>0.431475</td>\n",
       "    </tr>\n",
       "    <tr>\n",
       "      <th>feature20</th>\n",
       "      <td>0.112988</td>\n",
       "      <td>0.774538</td>\n",
       "      <td>0.477020</td>\n",
       "      <td>0.823405</td>\n",
       "      <td>0.888311</td>\n",
       "    </tr>\n",
       "    <tr>\n",
       "      <th>feature21</th>\n",
       "      <td>0.656692</td>\n",
       "      <td>0.840264</td>\n",
       "      <td>0.473089</td>\n",
       "      <td>0.951636</td>\n",
       "      <td>0.417717</td>\n",
       "    </tr>\n",
       "    <tr>\n",
       "      <th>target</th>\n",
       "      <td>0.000000</td>\n",
       "      <td>0.000000</td>\n",
       "      <td>1.000000</td>\n",
       "      <td>0.000000</td>\n",
       "      <td>0.000000</td>\n",
       "    </tr>\n",
       "  </tbody>\n",
       "</table>\n",
       "</div>"
      ],
      "text/plain": [
       "                  0         1         2         3         4\n",
       "feature1   0.919013  0.432089  0.540382  0.463623  0.301319\n",
       "feature2   0.175979  0.351883  0.455780  0.064658  0.177891\n",
       "feature3   0.101359  0.304700  0.827779  0.593650  0.724596\n",
       "feature4   0.666598  0.896531  0.599250  0.919549  0.303711\n",
       "feature5   0.580599  0.405688  0.557706  0.241829  0.750088\n",
       "feature6   0.921771  0.816737  0.652918  0.778215  0.875587\n",
       "feature7   0.389600  0.469452  0.320100  0.810370  0.286873\n",
       "feature8   0.481728  0.532358  0.514789  0.454875  0.563292\n",
       "feature9   0.024934  0.484844  0.287147  0.003836  0.363022\n",
       "feature10  0.909278  1.000000  0.520798  0.860052  0.726946\n",
       "feature11  0.743939  0.316164  0.386932  0.374263  0.415044\n",
       "feature12  0.048161  0.354890  0.254918  0.147851  0.177795\n",
       "feature13  0.604954  0.499131  0.441554  0.836339  0.178349\n",
       "feature14  0.259207  0.884075  0.036118  0.140753  0.470959\n",
       "feature15  0.761188  0.790231  0.374320  0.451736  0.350409\n",
       "feature16  0.922862  0.295038  0.358789  0.190552  0.826522\n",
       "feature17  0.615989  0.626416  0.449323  0.958331  0.430217\n",
       "feature18  0.406138  0.854634  0.265539  0.457151  0.367773\n",
       "feature19  0.372772  0.297635  0.376490  0.385226  0.431475\n",
       "feature20  0.112988  0.774538  0.477020  0.823405  0.888311\n",
       "feature21  0.656692  0.840264  0.473089  0.951636  0.417717\n",
       "target     0.000000  0.000000  1.000000  0.000000  0.000000"
      ]
     },
     "execution_count": 5,
     "metadata": {},
     "output_type": "execute_result"
    }
   ],
   "source": [
    "numerai.head().T"
   ]
  },
  {
   "cell_type": "code",
   "execution_count": 7,
   "metadata": {
    "collapsed": false,
    "scrolled": true
   },
   "outputs": [
    {
     "data": {
      "text/html": [
       "<div>\n",
       "<table border=\"1\" class=\"dataframe\">\n",
       "  <thead>\n",
       "    <tr style=\"text-align: right;\">\n",
       "      <th></th>\n",
       "      <th>count</th>\n",
       "      <th>mean</th>\n",
       "      <th>std</th>\n",
       "      <th>min</th>\n",
       "      <th>25%</th>\n",
       "      <th>50%</th>\n",
       "      <th>75%</th>\n",
       "      <th>max</th>\n",
       "    </tr>\n",
       "  </thead>\n",
       "  <tbody>\n",
       "    <tr>\n",
       "      <th>feature1</th>\n",
       "      <td>96320.0</td>\n",
       "      <td>0.492073</td>\n",
       "      <td>0.282503</td>\n",
       "      <td>0.000000</td>\n",
       "      <td>0.242726</td>\n",
       "      <td>0.491664</td>\n",
       "      <td>0.737396</td>\n",
       "      <td>1.0</td>\n",
       "    </tr>\n",
       "    <tr>\n",
       "      <th>feature2</th>\n",
       "      <td>96320.0</td>\n",
       "      <td>0.502368</td>\n",
       "      <td>0.289907</td>\n",
       "      <td>0.000029</td>\n",
       "      <td>0.256339</td>\n",
       "      <td>0.504819</td>\n",
       "      <td>0.756079</td>\n",
       "      <td>1.0</td>\n",
       "    </tr>\n",
       "    <tr>\n",
       "      <th>feature3</th>\n",
       "      <td>96320.0</td>\n",
       "      <td>0.489291</td>\n",
       "      <td>0.287124</td>\n",
       "      <td>0.000000</td>\n",
       "      <td>0.238734</td>\n",
       "      <td>0.477203</td>\n",
       "      <td>0.735871</td>\n",
       "      <td>1.0</td>\n",
       "    </tr>\n",
       "    <tr>\n",
       "      <th>feature4</th>\n",
       "      <td>96320.0</td>\n",
       "      <td>0.509141</td>\n",
       "      <td>0.291121</td>\n",
       "      <td>0.000000</td>\n",
       "      <td>0.269589</td>\n",
       "      <td>0.501874</td>\n",
       "      <td>0.760353</td>\n",
       "      <td>1.0</td>\n",
       "    </tr>\n",
       "    <tr>\n",
       "      <th>feature5</th>\n",
       "      <td>96320.0</td>\n",
       "      <td>0.488995</td>\n",
       "      <td>0.284881</td>\n",
       "      <td>0.000000</td>\n",
       "      <td>0.247342</td>\n",
       "      <td>0.490200</td>\n",
       "      <td>0.713748</td>\n",
       "      <td>1.0</td>\n",
       "    </tr>\n",
       "    <tr>\n",
       "      <th>feature6</th>\n",
       "      <td>96320.0</td>\n",
       "      <td>0.499417</td>\n",
       "      <td>0.284566</td>\n",
       "      <td>0.000000</td>\n",
       "      <td>0.258420</td>\n",
       "      <td>0.491724</td>\n",
       "      <td>0.745610</td>\n",
       "      <td>1.0</td>\n",
       "    </tr>\n",
       "    <tr>\n",
       "      <th>feature7</th>\n",
       "      <td>96320.0</td>\n",
       "      <td>0.491723</td>\n",
       "      <td>0.283758</td>\n",
       "      <td>0.000000</td>\n",
       "      <td>0.250155</td>\n",
       "      <td>0.498701</td>\n",
       "      <td>0.725119</td>\n",
       "      <td>1.0</td>\n",
       "    </tr>\n",
       "    <tr>\n",
       "      <th>feature8</th>\n",
       "      <td>96320.0</td>\n",
       "      <td>0.480110</td>\n",
       "      <td>0.287291</td>\n",
       "      <td>0.000181</td>\n",
       "      <td>0.230062</td>\n",
       "      <td>0.465147</td>\n",
       "      <td>0.726752</td>\n",
       "      <td>1.0</td>\n",
       "    </tr>\n",
       "    <tr>\n",
       "      <th>feature9</th>\n",
       "      <td>96320.0</td>\n",
       "      <td>0.487441</td>\n",
       "      <td>0.287196</td>\n",
       "      <td>0.000000</td>\n",
       "      <td>0.238328</td>\n",
       "      <td>0.481909</td>\n",
       "      <td>0.718227</td>\n",
       "      <td>1.0</td>\n",
       "    </tr>\n",
       "    <tr>\n",
       "      <th>feature10</th>\n",
       "      <td>96320.0</td>\n",
       "      <td>0.508945</td>\n",
       "      <td>0.289275</td>\n",
       "      <td>0.000000</td>\n",
       "      <td>0.259184</td>\n",
       "      <td>0.521147</td>\n",
       "      <td>0.753798</td>\n",
       "      <td>1.0</td>\n",
       "    </tr>\n",
       "    <tr>\n",
       "      <th>feature11</th>\n",
       "      <td>96320.0</td>\n",
       "      <td>0.509267</td>\n",
       "      <td>0.289917</td>\n",
       "      <td>0.000000</td>\n",
       "      <td>0.268449</td>\n",
       "      <td>0.501750</td>\n",
       "      <td>0.765690</td>\n",
       "      <td>1.0</td>\n",
       "    </tr>\n",
       "    <tr>\n",
       "      <th>feature12</th>\n",
       "      <td>96320.0</td>\n",
       "      <td>0.494392</td>\n",
       "      <td>0.288020</td>\n",
       "      <td>0.000000</td>\n",
       "      <td>0.251125</td>\n",
       "      <td>0.487338</td>\n",
       "      <td>0.741038</td>\n",
       "      <td>1.0</td>\n",
       "    </tr>\n",
       "    <tr>\n",
       "      <th>feature13</th>\n",
       "      <td>96320.0</td>\n",
       "      <td>0.495714</td>\n",
       "      <td>0.290849</td>\n",
       "      <td>0.000151</td>\n",
       "      <td>0.249903</td>\n",
       "      <td>0.486466</td>\n",
       "      <td>0.752731</td>\n",
       "      <td>1.0</td>\n",
       "    </tr>\n",
       "    <tr>\n",
       "      <th>feature14</th>\n",
       "      <td>96320.0</td>\n",
       "      <td>0.485043</td>\n",
       "      <td>0.290421</td>\n",
       "      <td>0.000022</td>\n",
       "      <td>0.236781</td>\n",
       "      <td>0.489609</td>\n",
       "      <td>0.732493</td>\n",
       "      <td>1.0</td>\n",
       "    </tr>\n",
       "    <tr>\n",
       "      <th>feature15</th>\n",
       "      <td>96320.0</td>\n",
       "      <td>0.511588</td>\n",
       "      <td>0.282242</td>\n",
       "      <td>0.000000</td>\n",
       "      <td>0.276637</td>\n",
       "      <td>0.532616</td>\n",
       "      <td>0.749679</td>\n",
       "      <td>1.0</td>\n",
       "    </tr>\n",
       "    <tr>\n",
       "      <th>feature16</th>\n",
       "      <td>96320.0</td>\n",
       "      <td>0.492683</td>\n",
       "      <td>0.287559</td>\n",
       "      <td>0.000000</td>\n",
       "      <td>0.250234</td>\n",
       "      <td>0.489029</td>\n",
       "      <td>0.749962</td>\n",
       "      <td>1.0</td>\n",
       "    </tr>\n",
       "    <tr>\n",
       "      <th>feature17</th>\n",
       "      <td>96320.0</td>\n",
       "      <td>0.489807</td>\n",
       "      <td>0.291423</td>\n",
       "      <td>0.000000</td>\n",
       "      <td>0.236166</td>\n",
       "      <td>0.472627</td>\n",
       "      <td>0.746591</td>\n",
       "      <td>1.0</td>\n",
       "    </tr>\n",
       "    <tr>\n",
       "      <th>feature18</th>\n",
       "      <td>96320.0</td>\n",
       "      <td>0.511000</td>\n",
       "      <td>0.285477</td>\n",
       "      <td>0.000000</td>\n",
       "      <td>0.274338</td>\n",
       "      <td>0.516491</td>\n",
       "      <td>0.756597</td>\n",
       "      <td>1.0</td>\n",
       "    </tr>\n",
       "    <tr>\n",
       "      <th>feature19</th>\n",
       "      <td>96320.0</td>\n",
       "      <td>0.493057</td>\n",
       "      <td>0.286983</td>\n",
       "      <td>0.000000</td>\n",
       "      <td>0.239905</td>\n",
       "      <td>0.490490</td>\n",
       "      <td>0.738235</td>\n",
       "      <td>1.0</td>\n",
       "    </tr>\n",
       "    <tr>\n",
       "      <th>feature20</th>\n",
       "      <td>96320.0</td>\n",
       "      <td>0.493014</td>\n",
       "      <td>0.293929</td>\n",
       "      <td>0.000000</td>\n",
       "      <td>0.248836</td>\n",
       "      <td>0.481355</td>\n",
       "      <td>0.761017</td>\n",
       "      <td>1.0</td>\n",
       "    </tr>\n",
       "    <tr>\n",
       "      <th>feature21</th>\n",
       "      <td>96320.0</td>\n",
       "      <td>0.498398</td>\n",
       "      <td>0.289648</td>\n",
       "      <td>0.000000</td>\n",
       "      <td>0.254630</td>\n",
       "      <td>0.503693</td>\n",
       "      <td>0.747866</td>\n",
       "      <td>1.0</td>\n",
       "    </tr>\n",
       "    <tr>\n",
       "      <th>target</th>\n",
       "      <td>96320.0</td>\n",
       "      <td>0.505170</td>\n",
       "      <td>0.499976</td>\n",
       "      <td>0.000000</td>\n",
       "      <td>0.000000</td>\n",
       "      <td>1.000000</td>\n",
       "      <td>1.000000</td>\n",
       "      <td>1.0</td>\n",
       "    </tr>\n",
       "  </tbody>\n",
       "</table>\n",
       "</div>"
      ],
      "text/plain": [
       "             count      mean       std       min       25%       50%  \\\n",
       "feature1   96320.0  0.492073  0.282503  0.000000  0.242726  0.491664   \n",
       "feature2   96320.0  0.502368  0.289907  0.000029  0.256339  0.504819   \n",
       "feature3   96320.0  0.489291  0.287124  0.000000  0.238734  0.477203   \n",
       "feature4   96320.0  0.509141  0.291121  0.000000  0.269589  0.501874   \n",
       "feature5   96320.0  0.488995  0.284881  0.000000  0.247342  0.490200   \n",
       "feature6   96320.0  0.499417  0.284566  0.000000  0.258420  0.491724   \n",
       "feature7   96320.0  0.491723  0.283758  0.000000  0.250155  0.498701   \n",
       "feature8   96320.0  0.480110  0.287291  0.000181  0.230062  0.465147   \n",
       "feature9   96320.0  0.487441  0.287196  0.000000  0.238328  0.481909   \n",
       "feature10  96320.0  0.508945  0.289275  0.000000  0.259184  0.521147   \n",
       "feature11  96320.0  0.509267  0.289917  0.000000  0.268449  0.501750   \n",
       "feature12  96320.0  0.494392  0.288020  0.000000  0.251125  0.487338   \n",
       "feature13  96320.0  0.495714  0.290849  0.000151  0.249903  0.486466   \n",
       "feature14  96320.0  0.485043  0.290421  0.000022  0.236781  0.489609   \n",
       "feature15  96320.0  0.511588  0.282242  0.000000  0.276637  0.532616   \n",
       "feature16  96320.0  0.492683  0.287559  0.000000  0.250234  0.489029   \n",
       "feature17  96320.0  0.489807  0.291423  0.000000  0.236166  0.472627   \n",
       "feature18  96320.0  0.511000  0.285477  0.000000  0.274338  0.516491   \n",
       "feature19  96320.0  0.493057  0.286983  0.000000  0.239905  0.490490   \n",
       "feature20  96320.0  0.493014  0.293929  0.000000  0.248836  0.481355   \n",
       "feature21  96320.0  0.498398  0.289648  0.000000  0.254630  0.503693   \n",
       "target     96320.0  0.505170  0.499976  0.000000  0.000000  1.000000   \n",
       "\n",
       "                75%  max  \n",
       "feature1   0.737396  1.0  \n",
       "feature2   0.756079  1.0  \n",
       "feature3   0.735871  1.0  \n",
       "feature4   0.760353  1.0  \n",
       "feature5   0.713748  1.0  \n",
       "feature6   0.745610  1.0  \n",
       "feature7   0.725119  1.0  \n",
       "feature8   0.726752  1.0  \n",
       "feature9   0.718227  1.0  \n",
       "feature10  0.753798  1.0  \n",
       "feature11  0.765690  1.0  \n",
       "feature12  0.741038  1.0  \n",
       "feature13  0.752731  1.0  \n",
       "feature14  0.732493  1.0  \n",
       "feature15  0.749679  1.0  \n",
       "feature16  0.749962  1.0  \n",
       "feature17  0.746591  1.0  \n",
       "feature18  0.756597  1.0  \n",
       "feature19  0.738235  1.0  \n",
       "feature20  0.761017  1.0  \n",
       "feature21  0.747866  1.0  \n",
       "target     1.000000  1.0  "
      ]
     },
     "execution_count": 7,
     "metadata": {},
     "output_type": "execute_result"
    }
   ],
   "source": [
    "numerai.describe().T"
   ]
  },
  {
   "cell_type": "code",
   "execution_count": 3,
   "metadata": {
    "collapsed": false
   },
   "outputs": [],
   "source": [
    "nu_corr = numerai.iloc[:, :-1].corr()"
   ]
  },
  {
   "cell_type": "code",
   "execution_count": null,
   "metadata": {
    "collapsed": false,
    "scrolled": true
   },
   "outputs": [],
   "source": []
  },
  {
   "cell_type": "code",
   "execution_count": 4,
   "metadata": {
    "collapsed": false,
    "scrolled": true
   },
   "outputs": [],
   "source": [
    "### Graphing\n",
    "import matplotlib.pyplot as plt\n",
    "import seaborn as sns\n",
    "\n",
    "plt.style.use('fivethirtyeight')\n",
    "\n",
    "# Plot within the jupyter notebook\n",
    "%matplotlib inline\n",
    "# Basically, the HD version\n",
    "%config InlineBackend.figure_format = 'retina'\n"
   ]
  },
  {
   "cell_type": "code",
   "execution_count": 24,
   "metadata": {
    "collapsed": false
   },
   "outputs": [
    {
     "data": {
      "text/plain": [
       "<matplotlib.axes._subplots.AxesSubplot at 0x1129a1490>"
      ]
     },
     "execution_count": 24,
     "metadata": {},
     "output_type": "execute_result"
    },
    {
     "data": {
      "image/png": "[encoded data removed]",
      "text/plain": [
       "<matplotlib.figure.Figure at 0x1129988d0>"
      ]
     },
     "metadata": {
      "image/png": {
       "height": 454,
       "width": 589
      }
     },
     "output_type": "display_data"
    }
   ],
   "source": [
    "fig = plt.figure(figsize=(9,7))\n",
    "sns.heatmap(nu_corr)"
   ]
  },
  {
   "cell_type": "code",
   "execution_count": 67,
   "metadata": {
    "collapsed": true
   },
   "outputs": [],
   "source": [
    "y = numerai['target']\n",
    "X = numerai.iloc[:, :-1]"
   ]
  },
  {
   "cell_type": "code",
   "execution_count": 89,
   "metadata": {
    "collapsed": false
   },
   "outputs": [],
   "source": [
    "Y = np.zeros((y.shape[0], 2))\n",
    "for idx, item in enumerate(y):\n",
    "    Y[idx, item] = 1"
   ]
  },
  {
   "cell_type": "code",
   "execution_count": 90,
   "metadata": {
    "collapsed": false
   },
   "outputs": [
    {
     "data": {
      "text/plain": [
       "array([[ 1.,  0.],\n",
       "       [ 1.,  0.],\n",
       "       [ 0.,  1.],\n",
       "       ..., \n",
       "       [ 0.,  1.],\n",
       "       [ 1.,  0.],\n",
       "       [ 1.,  0.]])"
      ]
     },
     "execution_count": 90,
     "metadata": {},
     "output_type": "execute_result"
    }
   ],
   "source": [
    "Y"
   ]
  },
  {
   "cell_type": "code",
   "execution_count": 70,
   "metadata": {
    "collapsed": false
   },
   "outputs": [
    {
     "data": {
      "text/plain": [
       "LogisticRegression(C=1.0, class_weight=None, dual=False, fit_intercept=True,\n",
       "          intercept_scaling=1, max_iter=100, multi_class='ovr', n_jobs=1,\n",
       "          penalty='l2', random_state=None, solver='liblinear', tol=0.0001,\n",
       "          verbose=0, warm_start=False)"
      ]
     },
     "execution_count": 70,
     "metadata": {},
     "output_type": "execute_result"
    }
   ],
   "source": [
    "logit = LogisticRegression()\n",
    "logit.fit(X, y)"
   ]
  },
  {
   "cell_type": "code",
   "execution_count": 95,
   "metadata": {
    "collapsed": false
   },
   "outputs": [
    {
     "data": {
      "text/plain": [
       "0.34567685154369021"
      ]
     },
     "execution_count": 95,
     "metadata": {},
     "output_type": "execute_result"
    }
   ],
   "source": [
    "-np.mean(np.log(logit.predict_proba(X))  * Y)"
   ]
  },
  {
   "cell_type": "code",
   "execution_count": null,
   "metadata": {
    "collapsed": true
   },
   "outputs": [],
   "source": []
  },
  {
   "cell_type": "code",
   "execution_count": 22,
   "metadata": {
    "collapsed": true
   },
   "outputs": [],
   "source": [
    "y10 = numerai_10['target']\n",
    "X10 = numerai_10.iloc[:, :-1]"
   ]
  },
  {
   "cell_type": "code",
   "execution_count": 23,
   "metadata": {
    "collapsed": false
   },
   "outputs": [
    {
     "name": "stdout",
     "output_type": "stream",
     "text": [
      "(6742, 21) (2890, 21)\n",
      "(6742,) (6742,)\n"
     ]
    }
   ],
   "source": [
    "## Setting up train-test split\n",
    "from sklearn.cross_validation import train_test_split\n",
    "\n",
    "trainX, testX, trainY, testY = train_test_split(X10, y10, train_size=0.7, stratify=y10) # Can also use test_size\n",
    "print trainX.shape, testX.shape\n",
    "print trainY.shape, trainY.shape"
   ]
  },
  {
   "cell_type": "code",
   "execution_count": 7,
   "metadata": {
    "collapsed": true
   },
   "outputs": [],
   "source": [
    "from sklearn.cross_validation import cross_val_score\n",
    "from sklearn.metrics import classification_report\n",
    "from sklearn.metrics import accuracy_score\n",
    "from sklearn.grid_search import GridSearchCV"
   ]
  },
  {
   "cell_type": "code",
   "execution_count": 26,
   "metadata": {
    "collapsed": false
   },
   "outputs": [],
   "source": [
    "from sklearn.metrics import log_loss"
   ]
  },
  {
   "cell_type": "code",
   "execution_count": null,
   "metadata": {
    "collapsed": true
   },
   "outputs": [],
   "source": []
  },
  {
   "cell_type": "code",
   "execution_count": 27,
   "metadata": {
    "collapsed": false
   },
   "outputs": [],
   "source": [
    "\"\"\"\n",
    "building a helper function to compare the results of each model\n",
    "\"\"\"\n",
    "def evaluate_model(model, param):\n",
    "    #trainX, testX, trainY, testY = train_test_split(X, y, train_size=0.7, stratify=y, random_state = 42)\n",
    "    #random_state vs stratefy: \n",
    "    fit_model = model.fit(trainX, trainY)\n",
    "    y_pred = fit_model.predict(testX)\n",
    "    \n",
    "    estimator = GridSearchCV(model, param_grid = param, cv=5, verbose=1, n_jobs=-1)\n",
    "    # Fit some data!\n",
    "    results = estimator.fit(trainX, trainY)\n",
    "    print \"Parameter used: \", results.param_grid\n",
    "    print \"\\n====================\\n\"\n",
    "    print \"Best score acheived: \", results.best_score_\n",
    "    print \"\\n====================\\n\"\n",
    "    best_model= results.best_estimator_\n",
    "    \n",
    "    print \"Best model:\" , best_model\n",
    "    print \"\\n====================\\n\"\n",
    "    print \"Best param: \", results.best_params_ \n",
    "    print \"\\n====================\\n\"\n",
    "    \n",
    "    evaluate_dict['model'].append(model)\n",
    "    evaluate_dict['param'].append(results.best_params_)\n",
    "    \n",
    "    \n",
    "    #score = accuracy_score(y_pred, testY)\n",
    "    #print \"Accuracy score: \", score\n",
    "    #evaluate_dict['score'].append(score)\n",
    "    \n",
    "    y_true = testY\n",
    "    \n",
    "    print \"log loss: \", log_loss(y_true, y_pred)\n",
    "    \n",
    "    \n",
    "    \"\"\"prints the confusion matrix and the classification report\"\"\"\n",
    "    #confusion = pd.crosstab(y_true, y_pred, rownames=['Actual'], colnames=['Predicted'], margins=True)\n",
    "    #print confusion\n",
    "    #print \"\\n====================\\n\"\n",
    "    #print classification_report(y_true, y_pred)\n"
   ]
  },
  {
   "cell_type": "code",
   "execution_count": 9,
   "metadata": {
    "collapsed": true
   },
   "outputs": [],
   "source": [
    "evaluate_dict = {\n",
    "    'model': [],\n",
    "    'score':[],\n",
    "    'param':[]\n",
    "}"
   ]
  },
  {
   "cell_type": "code",
   "execution_count": 28,
   "metadata": {
    "collapsed": false,
    "scrolled": false
   },
   "outputs": [
    {
     "name": "stdout",
     "output_type": "stream",
     "text": [
      "Fitting 5 folds for each of 198 candidates, totalling 990 fits\n"
     ]
    },
    {
     "name": "stderr",
     "output_type": "stream",
     "text": [
      "[Parallel(n_jobs=-1)]: Done  42 tasks      | elapsed:    9.0s\n",
      "[Parallel(n_jobs=-1)]: Done 192 tasks      | elapsed:   43.3s\n",
      "[Parallel(n_jobs=-1)]: Done 442 tasks      | elapsed:  1.9min\n",
      "[Parallel(n_jobs=-1)]: Done 792 tasks      | elapsed:  3.5min\n"
     ]
    },
    {
     "name": "stdout",
     "output_type": "stream",
     "text": [
      "Parameter used:  {'n_neighbors': [1, 2, 3, 4, 5, 6, 7, 8, 9, 10, 11, 12, 13, 14, 15, 16, 17, 18, 19, 20, 21, 22, 23, 24, 25, 26, 27, 28, 29, 30, 31, 32, 33, 34, 35, 36, 37, 38, 39, 40, 41, 42, 43, 44, 45, 46, 47, 48, 49, 50, 51, 52, 53, 54, 55, 56, 57, 58, 59, 60, 61, 62, 63, 64, 65, 66, 67, 68, 69, 70, 71, 72, 73, 74, 75, 76, 77, 78, 79, 80, 81, 82, 83, 84, 85, 86, 87, 88, 89, 90, 91, 92, 93, 94, 95, 96, 97, 98, 99], 'weights': ['distance', 'uniform']}\n",
      "\n",
      "====================\n",
      "\n",
      "Best score acheived:  0.524325126075\n",
      "\n",
      "====================\n",
      "\n",
      "Best model: KNeighborsClassifier(algorithm='auto', leaf_size=30, metric='minkowski',\n",
      "           metric_params=None, n_jobs=1, n_neighbors=85, p=2,\n",
      "           weights='distance')\n",
      "\n",
      "====================\n",
      "\n",
      "Best param:  {'n_neighbors': 85, 'weights': 'distance'}\n",
      "\n",
      "====================\n",
      "\n",
      "log loss:  17.173982209\n"
     ]
    },
    {
     "name": "stderr",
     "output_type": "stream",
     "text": [
      "[Parallel(n_jobs=-1)]: Done 990 out of 990 | elapsed:  4.4min finished\n"
     ]
    }
   ],
   "source": [
    "from sklearn.neighbors import KNeighborsClassifier\n",
    "\n",
    "# Assign knn as a KNeighborsClassifier function\n",
    "knn = KNeighborsClassifier() # uniform or distance\n",
    "knn_p = {'n_neighbors': range(1,100),\n",
    "         'weights': ['distance','uniform'],\n",
    "         #'algorithm': ['auto', 'ball_tree', 'kd_tree'], \n",
    "}\n",
    "\n",
    "evaluate_model(knn, knn_p)\n",
    "#THIS IS THE OUTCOME OF USING 10% OF THE DATASET"
   ]
  },
  {
   "cell_type": "code",
   "execution_count": 29,
   "metadata": {
    "collapsed": false
   },
   "outputs": [
    {
     "name": "stdout",
     "output_type": "stream",
     "text": [
      "log loss:  16.6242640901\n"
     ]
    }
   ],
   "source": [
    "knn_best = KNeighborsClassifier(algorithm='auto', leaf_size=30, metric='minkowski',\n",
    "           metric_params=None, n_jobs=1, n_neighbors=85, p=2,\n",
    "           weights='distance')\n",
    "fit_knn = knn_best.fit(trainX, trainY)\n",
    "y_pred = fit_knn.predict(testX)\n",
    "y_true = testY\n",
    "\n",
    "print \"log loss: \", log_loss(y_true, y_pred)"
   ]
  },
  {
   "cell_type": "code",
   "execution_count": 48,
   "metadata": {
    "collapsed": true
   },
   "outputs": [],
   "source": [
    "log_dict = { \"best_model\":[],\n",
    "            \"log_loss\": []\n",
    "    \n",
    "}\n",
    "\n",
    "def log_func(model):\n",
    "    fit_model = model.fit(trainX, trainY)\n",
    "    y_pred = fit_model.predict(testX)\n",
    "    y_true = testY\n",
    "    loss = log_loss(y_true, y_pred)\n",
    "    print \"log loss: \", loss\n",
    "    log_dict['best_model'].append(model)\n",
    "    log_dict['log_loss'].append(loss)"
   ]
  },
  {
   "cell_type": "code",
   "execution_count": 35,
   "metadata": {
    "collapsed": true
   },
   "outputs": [],
   "source": []
  },
  {
   "cell_type": "markdown",
   "metadata": {},
   "source": [
    "# The accuracy score is really low with KNN"
   ]
  },
  {
   "cell_type": "code",
   "execution_count": 16,
   "metadata": {
    "collapsed": false
   },
   "outputs": [
    {
     "data": {
      "text/plain": [
       "{'model': [KNeighborsClassifier(algorithm='auto', leaf_size=30, metric='minkowski',\n",
       "             metric_params=None, n_jobs=1, n_neighbors=5, p=2,\n",
       "             weights='uniform'),\n",
       "  KNeighborsClassifier(algorithm='auto', leaf_size=30, metric='minkowski',\n",
       "             metric_params=None, n_jobs=1, n_neighbors=5, p=2,\n",
       "             weights='uniform')],\n",
       " 'param': [{'n_neighbors': 1, 'weights': 'distance'},\n",
       "  {'n_neighbors': 10, 'weights': 'distance'}],\n",
       " 'score': [0.49134948096885811, 0.49134948096885811]}"
      ]
     },
     "execution_count": 16,
     "metadata": {},
     "output_type": "execute_result"
    }
   ],
   "source": [
    "evaluate_dict"
   ]
  },
  {
   "cell_type": "markdown",
   "metadata": {},
   "source": [
    "# Bagging + KNN"
   ]
  },
  {
   "cell_type": "code",
   "execution_count": 15,
   "metadata": {
    "collapsed": true
   },
   "outputs": [],
   "source": [
    "from sklearn.ensemble import BaggingClassifier\n",
    "from sklearn.neighbors import KNeighborsClassifier"
   ]
  },
  {
   "cell_type": "code",
   "execution_count": 19,
   "metadata": {
    "collapsed": false
   },
   "outputs": [],
   "source": [
    "knn_best = KNeighborsClassifier(algorithm='auto', leaf_size=30, metric='minkowski',\n",
    "           metric_params=None, n_jobs=1, n_neighbors=10, p=2,\n",
    "           weights='distance')\n",
    "bag_p = {\n",
    "         'max_features': [0.5,1.0],\n",
    "        }\n",
    "bag_knn = BaggingClassifier(base_estimator= knn_best, warm_start = True)"
   ]
  },
  {
   "cell_type": "code",
   "execution_count": null,
   "metadata": {
    "collapsed": false,
    "scrolled": true
   },
   "outputs": [],
   "source": []
  },
  {
   "cell_type": "markdown",
   "metadata": {
    "collapsed": true
   },
   "source": [
    "# With bagging, it's slightly better."
   ]
  },
  {
   "cell_type": "markdown",
   "metadata": {},
   "source": [
    "# Logistic"
   ]
  },
  {
   "cell_type": "code",
   "execution_count": 10,
   "metadata": {
    "collapsed": true
   },
   "outputs": [],
   "source": [
    "from sklearn.linear_model import LogisticRegression\n",
    "lr = LogisticRegression()\n",
    "lr_p = { 'penalty': ['l1', 'l2'],\n",
    "         'C': [0.1, 0.3, 0.5, 0.6, 0.7, 0.8, 0.9, 1.0],\n",
    "    \n",
    "}"
   ]
  },
  {
   "cell_type": "code",
   "execution_count": 11,
   "metadata": {
    "collapsed": false
   },
   "outputs": [
    {
     "name": "stdout",
     "output_type": "stream",
     "text": [
      "Fitting 5 folds for each of 16 candidates, totalling 80 fits\n"
     ]
    },
    {
     "name": "stderr",
     "output_type": "stream",
     "text": [
      "[Parallel(n_jobs=-1)]: Done  42 tasks      | elapsed:   34.6s\n",
      "[Parallel(n_jobs=-1)]: Done  80 out of  80 | elapsed:  1.0min finished\n"
     ]
    },
    {
     "name": "stdout",
     "output_type": "stream",
     "text": [
      "Parameter used:  {'penalty': ['l1', 'l2'], 'C': [0.1, 0.3, 0.5, 0.6, 0.7, 0.8, 0.9, 1.0]}\n",
      "\n",
      "====================\n",
      "\n",
      "Best score acheived:  0.521342548647\n",
      "\n",
      "====================\n",
      "\n",
      "Best model: LogisticRegression(C=0.3, class_weight=None, dual=False, fit_intercept=True,\n",
      "          intercept_scaling=1, max_iter=100, multi_class='ovr', n_jobs=1,\n",
      "          penalty='l1', random_state=None, solver='liblinear', tol=0.0001,\n",
      "          verbose=0, warm_start=False)\n",
      "\n",
      "====================\n",
      "\n",
      "Best param:  {'penalty': 'l1', 'C': 0.3}\n",
      "\n",
      "====================\n",
      "\n",
      "Accuracy score:  0.523325027685\n",
      "Predicted      0      1    All\n",
      "Actual                        \n",
      "0           6278   8021  14299\n",
      "1           5753   8844  14597\n",
      "All        12031  16865  28896\n",
      "\n",
      "====================\n",
      "\n",
      "             precision    recall  f1-score   support\n",
      "\n",
      "          0       0.52      0.44      0.48     14299\n",
      "          1       0.52      0.61      0.56     14597\n",
      "\n",
      "avg / total       0.52      0.52      0.52     28896\n",
      "\n"
     ]
    }
   ],
   "source": [
    "evaluate_model(lr, lr_p)"
   ]
  },
  {
   "cell_type": "markdown",
   "metadata": {},
   "source": [
    "## Logistic regression on the entire dataset ^"
   ]
  },
  {
   "cell_type": "code",
   "execution_count": 31,
   "metadata": {
    "collapsed": true
   },
   "outputs": [],
   "source": [
    "best_lg = LogisticRegression(C=0.3, class_weight=None, dual=False, fit_intercept=True,\n",
    "          intercept_scaling=1, max_iter=100, multi_class='ovr', n_jobs=1,\n",
    "          penalty='l1', random_state=None, solver='liblinear', tol=0.0001,\n",
    "          verbose=0, warm_start=False)"
   ]
  },
  {
   "cell_type": "code",
   "execution_count": 49,
   "metadata": {
    "collapsed": false
   },
   "outputs": [
    {
     "name": "stdout",
     "output_type": "stream",
     "text": [
      "log loss:  16.6959700622\n"
     ]
    }
   ],
   "source": [
    "log_func(best_lg)"
   ]
  },
  {
   "cell_type": "markdown",
   "metadata": {},
   "source": [
    "# Decision Tree"
   ]
  },
  {
   "cell_type": "code",
   "execution_count": 40,
   "metadata": {
    "collapsed": true
   },
   "outputs": [],
   "source": [
    "from sklearn.tree import DecisionTreeClassifier\n",
    "\n",
    "dt = DecisionTreeClassifier()\n",
    "dt_p = {'criterion': ['gini', 'entropy'],\n",
    "        'splitter': ['best', 'random'],\n",
    "        'max_features':[3,6,12],\n",
    "        'max_depth': [10,30,60],\n",
    "          \n",
    "}"
   ]
  },
  {
   "cell_type": "code",
   "execution_count": 41,
   "metadata": {
    "collapsed": false
   },
   "outputs": [
    {
     "name": "stdout",
     "output_type": "stream",
     "text": [
      "Fitting 5 folds for each of 36 candidates, totalling 180 fits\n",
      "Parameter used:  {'max_features': [3, 6, 12], 'splitter': ['best', 'random'], 'criterion': ['gini', 'entropy'], 'max_depth': [10, 30, 60]}\n",
      "\n",
      "====================\n",
      "\n",
      "Best score acheived:  0.518985464254\n",
      "\n",
      "====================\n",
      "\n",
      "Best model: DecisionTreeClassifier(class_weight=None, criterion='entropy', max_depth=10,\n",
      "            max_features=3, max_leaf_nodes=None, min_samples_leaf=1,\n",
      "            min_samples_split=2, min_weight_fraction_leaf=0.0,\n",
      "            presort=False, random_state=None, splitter='best')\n",
      "\n",
      "====================\n",
      "\n",
      "Best param:  {'max_features': 3, 'splitter': 'best', 'criterion': 'entropy', 'max_depth': 10}\n",
      "\n",
      "====================\n",
      "\n",
      "log loss:  17.3532447877\n"
     ]
    },
    {
     "name": "stderr",
     "output_type": "stream",
     "text": [
      "[Parallel(n_jobs=-1)]: Done 180 out of 180 | elapsed:    4.2s finished\n"
     ]
    }
   ],
   "source": [
    "evaluate_model(dt, dt_p)"
   ]
  },
  {
   "cell_type": "code",
   "execution_count": 42,
   "metadata": {
    "collapsed": true
   },
   "outputs": [],
   "source": [
    "dt_best = DecisionTreeClassifier(class_weight=None, criterion='entropy', max_depth=10,\n",
    "            max_features=3, max_leaf_nodes=None, min_samples_leaf=1,\n",
    "            min_samples_split=2, min_weight_fraction_leaf=0.0,\n",
    "            presort=False, random_state=None, splitter='best')"
   ]
  },
  {
   "cell_type": "code",
   "execution_count": 43,
   "metadata": {
    "collapsed": true
   },
   "outputs": [],
   "source": [
    "bag_dt = BaggingClassifier(base_estimator= dt_best, warm_start = True)"
   ]
  },
  {
   "cell_type": "code",
   "execution_count": 50,
   "metadata": {
    "collapsed": false
   },
   "outputs": [
    {
     "name": "stdout",
     "output_type": "stream",
     "text": [
      "log loss:  16.660096187\n"
     ]
    },
    {
     "name": "stderr",
     "output_type": "stream",
     "text": [
      "//anaconda/envs/dsi/lib/python2.7/site-packages/sklearn/ensemble/bagging.py:313: UserWarning: Warm-start fitting without increasing n_estimators does not fit new trees.\n",
      "  warn(\"Warm-start fitting without increasing n_estimators does not \"\n"
     ]
    }
   ],
   "source": [
    "log_func(bag_dt)"
   ]
  },
  {
   "cell_type": "code",
   "execution_count": 51,
   "metadata": {
    "collapsed": false
   },
   "outputs": [
    {
     "data": {
      "text/plain": [
       "{'best_model': [LogisticRegression(C=0.3, class_weight=None, dual=False, fit_intercept=True,\n",
       "            intercept_scaling=1, max_iter=100, multi_class='ovr', n_jobs=1,\n",
       "            penalty='l1', random_state=None, solver='liblinear', tol=0.0001,\n",
       "            verbose=0, warm_start=False),\n",
       "  BaggingClassifier(base_estimator=DecisionTreeClassifier(class_weight=None, criterion='entropy', max_depth=10,\n",
       "              max_features=3, max_leaf_nodes=None, min_samples_leaf=1,\n",
       "              min_samples_split=2, min_weight_fraction_leaf=0.0,\n",
       "              presort=False, random_state=None, splitter='best'),\n",
       "           bootstrap=True, bootstrap_features=False, max_features=1.0,\n",
       "           max_samples=1.0, n_estimators=10, n_jobs=1, oob_score=False,\n",
       "           random_state=None, verbose=0, warm_start=True)],\n",
       " 'log_loss': [16.695970062247614, 16.660096187024582]}"
      ]
     },
     "execution_count": 51,
     "metadata": {},
     "output_type": "execute_result"
    }
   ],
   "source": [
    "log_dict"
   ]
  },
  {
   "cell_type": "markdown",
   "metadata": {},
   "source": [
    "# SVM"
   ]
  },
  {
   "cell_type": "code",
   "execution_count": 52,
   "metadata": {
    "collapsed": true
   },
   "outputs": [],
   "source": [
    "from sklearn.svm import SVC\n",
    "\n",
    "svm_c = SVC()\n",
    "\n",
    "svm_p = {'C': [0.1, 0.5, 0.6, 0.8, 1.0],\n",
    "         'kernel': ['linear', 'rbf' ]\n",
    "    \n",
    "}"
   ]
  },
  {
   "cell_type": "code",
   "execution_count": 53,
   "metadata": {
    "collapsed": false
   },
   "outputs": [
    {
     "name": "stdout",
     "output_type": "stream",
     "text": [
      "Fitting 5 folds for each of 10 candidates, totalling 50 fits\n"
     ]
    },
    {
     "name": "stderr",
     "output_type": "stream",
     "text": [
      "[Parallel(n_jobs=-1)]: Done  42 tasks      | elapsed:   40.1s\n",
      "[Parallel(n_jobs=-1)]: Done  50 out of  50 | elapsed:   46.6s finished\n"
     ]
    },
    {
     "name": "stdout",
     "output_type": "stream",
     "text": [
      "Parameter used:  {'kernel': ['linear', 'rbf'], 'C': [0.1, 0.5, 0.6, 0.8, 1.0]}\n",
      "\n",
      "====================\n",
      "\n",
      "Best score acheived:  0.529664787897\n",
      "\n",
      "====================\n",
      "\n",
      "Best model: SVC(C=0.6, cache_size=200, class_weight=None, coef0=0.0,\n",
      "  decision_function_shape=None, degree=3, gamma='auto', kernel='rbf',\n",
      "  max_iter=-1, probability=False, random_state=None, shrinking=True,\n",
      "  tol=0.001, verbose=False)\n",
      "\n",
      "====================\n",
      "\n",
      "Best param:  {'kernel': 'rbf', 'C': 0.6}\n",
      "\n",
      "====================\n",
      "\n",
      "log loss:  16.552629224\n"
     ]
    }
   ],
   "source": [
    "evaluate_model(svm_c , svm_p)"
   ]
  },
  {
   "cell_type": "code",
   "execution_count": 54,
   "metadata": {
    "collapsed": true
   },
   "outputs": [],
   "source": [
    "best_svm = SVC(C=0.6, cache_size=200, class_weight=None, coef0=0.0,\n",
    "  decision_function_shape=None, degree=3, gamma='auto', kernel='rbf',\n",
    "  max_iter=-1, probability=False, random_state=None, shrinking=True,\n",
    "  tol=0.001, verbose=False)"
   ]
  },
  {
   "cell_type": "code",
   "execution_count": 55,
   "metadata": {
    "collapsed": false
   },
   "outputs": [
    {
     "name": "stdout",
     "output_type": "stream",
     "text": [
      "log loss:  16.4809271253\n"
     ]
    }
   ],
   "source": [
    "log_func(best_svm)"
   ]
  },
  {
   "cell_type": "code",
   "execution_count": 56,
   "metadata": {
    "collapsed": false
   },
   "outputs": [
    {
     "data": {
      "text/plain": [
       "{'best_model': [LogisticRegression(C=0.3, class_weight=None, dual=False, fit_intercept=True,\n",
       "            intercept_scaling=1, max_iter=100, multi_class='ovr', n_jobs=1,\n",
       "            penalty='l1', random_state=None, solver='liblinear', tol=0.0001,\n",
       "            verbose=0, warm_start=False),\n",
       "  BaggingClassifier(base_estimator=DecisionTreeClassifier(class_weight=None, criterion='entropy', max_depth=10,\n",
       "              max_features=3, max_leaf_nodes=None, min_samples_leaf=1,\n",
       "              min_samples_split=2, min_weight_fraction_leaf=0.0,\n",
       "              presort=False, random_state=None, splitter='best'),\n",
       "           bootstrap=True, bootstrap_features=False, max_features=1.0,\n",
       "           max_samples=1.0, n_estimators=10, n_jobs=1, oob_score=False,\n",
       "           random_state=None, verbose=0, warm_start=True),\n",
       "  SVC(C=0.6, cache_size=200, class_weight=None, coef0=0.0,\n",
       "    decision_function_shape=None, degree=3, gamma='auto', kernel='rbf',\n",
       "    max_iter=-1, probability=False, random_state=None, shrinking=True,\n",
       "    tol=0.001, verbose=False)],\n",
       " 'log_loss': [16.695970062247614, 16.660096187024582, 16.480927125282932]}"
      ]
     },
     "execution_count": 56,
     "metadata": {},
     "output_type": "execute_result"
    }
   ],
   "source": [
    "log_dict"
   ]
  },
  {
   "cell_type": "markdown",
   "metadata": {
    "collapsed": true
   },
   "source": [
    "# Random Forest Classifier"
   ]
  },
  {
   "cell_type": "code",
   "execution_count": 61,
   "metadata": {
    "collapsed": false
   },
   "outputs": [
    {
     "data": {
      "text/plain": [
       "Index([u'feature1', u'feature2', u'feature3', u'feature4', u'feature5',\n",
       "       u'feature6', u'feature7', u'feature8', u'feature9', u'feature10',\n",
       "       u'feature11', u'feature12', u'feature13', u'feature14', u'feature15',\n",
       "       u'feature16', u'feature17', u'feature18', u'feature19', u'feature20',\n",
       "       u'feature21'],\n",
       "      dtype='object')"
      ]
     },
     "execution_count": 61,
     "metadata": {},
     "output_type": "execute_result"
    }
   ],
   "source": [
    "X.columns"
   ]
  },
  {
   "cell_type": "code",
   "execution_count": 57,
   "metadata": {
    "collapsed": true
   },
   "outputs": [],
   "source": [
    "from sklearn.ensemble import RandomForestClassifier"
   ]
  },
  {
   "cell_type": "code",
   "execution_count": 62,
   "metadata": {
    "collapsed": true
   },
   "outputs": [],
   "source": [
    "rf_c = RandomForestClassifier()\n",
    "rf_p = {\n",
    "    \"n_estimators\": [10,20],\n",
    "    \"criterion\": ['gini', 'entropy'],\n",
    "    \"max_features\": ['auto', 'sqrt','log2',5, 10, 21]\n",
    "}"
   ]
  },
  {
   "cell_type": "code",
   "execution_count": 63,
   "metadata": {
    "collapsed": false
   },
   "outputs": [
    {
     "name": "stdout",
     "output_type": "stream",
     "text": [
      "Fitting 5 folds for each of 24 candidates, totalling 120 fits\n"
     ]
    },
    {
     "name": "stderr",
     "output_type": "stream",
     "text": [
      "[Parallel(n_jobs=-1)]: Done  42 tasks      | elapsed:    8.5s\n",
      "[Parallel(n_jobs=-1)]: Done 120 out of 120 | elapsed:   46.1s finished\n"
     ]
    },
    {
     "name": "stdout",
     "output_type": "stream",
     "text": [
      "Parameter used:  {'n_estimators': [10, 20], 'max_features': ['auto', 'sqrt', 'log2', 5, 10, 21], 'criterion': ['gini', 'entropy']}\n",
      "\n",
      "====================\n",
      "\n",
      "Best score acheived:  0.515129041827\n",
      "\n",
      "====================\n",
      "\n",
      "Best model: RandomForestClassifier(bootstrap=True, class_weight=None, criterion='entropy',\n",
      "            max_depth=None, max_features='sqrt', max_leaf_nodes=None,\n",
      "            min_samples_leaf=1, min_samples_split=2,\n",
      "            min_weight_fraction_leaf=0.0, n_estimators=20, n_jobs=1,\n",
      "            oob_score=False, random_state=None, verbose=0,\n",
      "            warm_start=False)\n",
      "\n",
      "====================\n",
      "\n",
      "Best param:  {'max_features': 'sqrt', 'n_estimators': 20, 'criterion': 'entropy'}\n",
      "\n",
      "====================\n",
      "\n",
      "log loss:  16.9349130532\n"
     ]
    }
   ],
   "source": [
    "evaluate_model(rf_c, rf_p)"
   ]
  },
  {
   "cell_type": "code",
   "execution_count": 64,
   "metadata": {
    "collapsed": true
   },
   "outputs": [],
   "source": [
    "best_rf = RandomForestClassifier(bootstrap=True, class_weight=None, criterion='entropy',\n",
    "            max_depth=None, max_features='sqrt', max_leaf_nodes=None,\n",
    "            min_samples_leaf=1, min_samples_split=2,\n",
    "            min_weight_fraction_leaf=0.0, n_estimators=20, n_jobs=1,\n",
    "            oob_score=False, random_state=None, verbose=0,\n",
    "            warm_start=False)"
   ]
  },
  {
   "cell_type": "code",
   "execution_count": 65,
   "metadata": {
    "collapsed": false
   },
   "outputs": [
    {
     "name": "stdout",
     "output_type": "stream",
     "text": [
      "log loss:  17.0305301464\n"
     ]
    }
   ],
   "source": [
    "log_func(best_rf)"
   ]
  },
  {
   "cell_type": "code",
   "execution_count": 66,
   "metadata": {
    "collapsed": false
   },
   "outputs": [
    {
     "data": {
      "text/plain": [
       "{'best_model': [LogisticRegression(C=0.3, class_weight=None, dual=False, fit_intercept=True,\n",
       "            intercept_scaling=1, max_iter=100, multi_class='ovr', n_jobs=1,\n",
       "            penalty='l1', random_state=None, solver='liblinear', tol=0.0001,\n",
       "            verbose=0, warm_start=False),\n",
       "  BaggingClassifier(base_estimator=DecisionTreeClassifier(class_weight=None, criterion='entropy', max_depth=10,\n",
       "              max_features=3, max_leaf_nodes=None, min_samples_leaf=1,\n",
       "              min_samples_split=2, min_weight_fraction_leaf=0.0,\n",
       "              presort=False, random_state=None, splitter='best'),\n",
       "           bootstrap=True, bootstrap_features=False, max_features=1.0,\n",
       "           max_samples=1.0, n_estimators=10, n_jobs=1, oob_score=False,\n",
       "           random_state=None, verbose=0, warm_start=True),\n",
       "  SVC(C=0.6, cache_size=200, class_weight=None, coef0=0.0,\n",
       "    decision_function_shape=None, degree=3, gamma='auto', kernel='rbf',\n",
       "    max_iter=-1, probability=False, random_state=None, shrinking=True,\n",
       "    tol=0.001, verbose=False),\n",
       "  RandomForestClassifier(bootstrap=True, class_weight=None, criterion='entropy',\n",
       "              max_depth=None, max_features='sqrt', max_leaf_nodes=None,\n",
       "              min_samples_leaf=1, min_samples_split=2,\n",
       "              min_weight_fraction_leaf=0.0, n_estimators=20, n_jobs=1,\n",
       "              oob_score=False, random_state=None, verbose=0,\n",
       "              warm_start=False)],\n",
       " 'log_loss': [16.695970062247614,\n",
       "  16.660096187024582,\n",
       "  16.480927125282932,\n",
       "  17.030530146442452]}"
      ]
     },
     "execution_count": 66,
     "metadata": {},
     "output_type": "execute_result"
    }
   ],
   "source": [
    "log_dict"
   ]
  },
  {
   "cell_type": "raw",
   "metadata": {},
   "source": []
  }
 ],
 "metadata": {
  "anaconda-cloud": {},
  "kernelspec": {
   "display_name": "Python [dsi]",
   "language": "python",
   "name": "Python [dsi]"
  },
  "language_info": {
   "codemirror_mode": {
    "name": "ipython",
    "version": 2
   },
   "file_extension": ".py",
   "mimetype": "text/x-python",
   "name": "python",
   "nbconvert_exporter": "python",
   "pygments_lexer": "ipython2",
   "version": "2.7.12"
  }
 },
 "nbformat": 4,
 "nbformat_minor": 0
}
